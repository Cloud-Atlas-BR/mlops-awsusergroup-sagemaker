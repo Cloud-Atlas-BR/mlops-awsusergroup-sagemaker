{
 "cells": [
  {
   "cell_type": "code",
   "execution_count": 1,
   "id": "a7aacb9f",
   "metadata": {},
   "outputs": [],
   "source": [
    "from sklearn.datasets import load_iris\n",
    "import sagemaker\n",
    "import pandas as  pd"
   ]
  },
  {
   "cell_type": "code",
   "execution_count": 2,
   "id": "0696051e",
   "metadata": {},
   "outputs": [],
   "source": [
    "iris = load_iris(as_frame=True)[\"data\"]"
   ]
  },
  {
   "cell_type": "code",
   "execution_count": 3,
   "id": "86638cc5",
   "metadata": {},
   "outputs": [],
   "source": [
    "target = load_iris(as_frame=True)[\"target\"]"
   ]
  },
  {
   "cell_type": "code",
   "execution_count": 4,
   "id": "cedced09",
   "metadata": {},
   "outputs": [],
   "source": [
    "data = pd.concat([target, iris], axis=1)"
   ]
  },
  {
   "cell_type": "code",
   "execution_count": 5,
   "id": "8458aafc",
   "metadata": {},
   "outputs": [],
   "source": [
    "data.to_csv(\"data.csv\", \n",
    "            header=False, \n",
    "            index=False\n",
    "           )"
   ]
  },
  {
   "cell_type": "code",
   "execution_count": 6,
   "id": "b679987f",
   "metadata": {},
   "outputs": [],
   "source": [
    "session = sagemaker.Session()"
   ]
  },
  {
   "cell_type": "code",
   "execution_count": 7,
   "id": "6293fb78",
   "metadata": {},
   "outputs": [],
   "source": [
    "region_name = session.boto_region_name"
   ]
  },
  {
   "cell_type": "code",
   "execution_count": 22,
   "id": "f33275e6",
   "metadata": {
    "scrolled": true
   },
   "outputs": [
    {
     "data": {
      "text/plain": [
       "'811284229777.dkr.ecr.us-east-1.amazonaws.com/xgboost:latest'"
      ]
     },
     "execution_count": 22,
     "metadata": {},
     "output_type": "execute_result"
    }
   ],
   "source": [
    "container_image = sagemaker.image_uris.retrieve(\n",
    "    framework=\"xgboost\", \n",
    "    region=region_name, \n",
    "    version=\"latest\")\n",
    "container_image"
   ]
  },
  {
   "cell_type": "code",
   "execution_count": 9,
   "id": "c0ea80c0",
   "metadata": {},
   "outputs": [],
   "source": [
    "bucket = session.default_bucket()"
   ]
  },
  {
   "cell_type": "code",
   "execution_count": 10,
   "id": "7b0c5709",
   "metadata": {},
   "outputs": [],
   "source": [
    "uploaded_data = session.upload_data(path=\"data.csv\", bucket=bucket, key_prefix=\"training\")"
   ]
  },
  {
   "cell_type": "code",
   "execution_count": 11,
   "id": "f438c7b4",
   "metadata": {},
   "outputs": [],
   "source": [
    "input_data = sagemaker.inputs.TrainingInput(s3_data=uploaded_data,\n",
    "                                            content_type=\"text/csv\")"
   ]
  },
  {
   "cell_type": "code",
   "execution_count": 12,
   "id": "0ed33085",
   "metadata": {},
   "outputs": [],
   "source": [
    "role = \"arn:aws:iam::885248014373:role/service-role/AmazonSageMaker-ExecutionRole-20210305T230941\""
   ]
  },
  {
   "cell_type": "code",
   "execution_count": 13,
   "id": "30a91fd5",
   "metadata": {},
   "outputs": [],
   "source": [
    "xgboost = sagemaker.estimator.Estimator(\n",
    "    image_uri=container_image,\n",
    "    role=role,\n",
    "    instance_type=\"ml.m5.large\", \n",
    "    instance_count=1,\n",
    "    output_path=f\"s3://{bucket}/output\",\n",
    "    sagemaker_session=session)   "
   ]
  },
  {
   "cell_type": "code",
   "execution_count": 14,
   "id": "a12d003b",
   "metadata": {},
   "outputs": [],
   "source": [
    "xgboost.set_hyperparameters(num_round=5, max_depth=5)"
   ]
  },
  {
   "cell_type": "code",
   "execution_count": 15,
   "id": "f0e30141",
   "metadata": {},
   "outputs": [
    {
     "name": "stdout",
     "output_type": "stream",
     "text": [
      "2021-06-28 23:08:15 Starting - Starting the training job...\n",
      "2021-06-28 23:08:17 Starting - Launching requested ML instancesProfilerReport-1624921694: InProgress\n",
      "......\n",
      "2021-06-28 23:09:52 Starting - Preparing the instances for training......\n",
      "2021-06-28 23:10:59 Downloading - Downloading input data......\n",
      "2021-06-28 23:12:15 Training - Training image download completed. Training in progress.\n",
      "2021-06-28 23:12:15 Uploading - Uploading generated training model\n",
      "2021-06-28 23:12:15 Completed - Training job completed\n",
      "\u001b[34mArguments: train\u001b[0m\n",
      "\u001b[34m[2021-06-28:23:12:02:INFO] Running standalone xgboost training.\u001b[0m\n",
      "\u001b[34m[2021-06-28:23:12:02:INFO] Path /opt/ml/input/data/validation does not exist!\u001b[0m\n",
      "\u001b[34m[2021-06-28:23:12:02:INFO] File size need to be processed in the node: 0.0mb. Available memory size in the node: 87.62mb\u001b[0m\n",
      "\u001b[34m[2021-06-28:23:12:02:INFO] Determined delimiter of CSV input is ','\u001b[0m\n",
      "\u001b[34m[23:12:02] S3DistributionType set as FullyReplicated\u001b[0m\n",
      "\u001b[34m[23:12:02] 150x4 matrix with 600 entries loaded from /opt/ml/input/data/train?format=csv&label_column=0&delimiter=,\u001b[0m\n",
      "\u001b[34m[23:12:02] src/tree/updater_prune.cc:74: tree pruning end, 1 roots, 8 extra nodes, 0 pruned nodes, max_depth=4\u001b[0m\n",
      "\u001b[34m[0]#011train-rmse:0.685905\u001b[0m\n",
      "\u001b[34m[23:12:02] src/tree/updater_prune.cc:74: tree pruning end, 1 roots, 6 extra nodes, 0 pruned nodes, max_depth=3\u001b[0m\n",
      "\u001b[34m[1]#011train-rmse:0.494086\u001b[0m\n",
      "\u001b[34m[23:12:02] src/tree/updater_prune.cc:74: tree pruning end, 1 roots, 14 extra nodes, 0 pruned nodes, max_depth=5\u001b[0m\n",
      "\u001b[34m[2]#011train-rmse:0.357192\u001b[0m\n",
      "\u001b[34m[23:12:02] src/tree/updater_prune.cc:74: tree pruning end, 1 roots, 8 extra nodes, 0 pruned nodes, max_depth=4\u001b[0m\n",
      "\u001b[34m[3]#011train-rmse:0.262149\u001b[0m\n",
      "\u001b[34m[23:12:02] src/tree/updater_prune.cc:74: tree pruning end, 1 roots, 12 extra nodes, 0 pruned nodes, max_depth=5\u001b[0m\n",
      "\u001b[34m[4]#011train-rmse:0.194319\u001b[0m\n",
      "Training seconds: 76\n",
      "Billable seconds: 76\n"
     ]
    }
   ],
   "source": [
    "xgboost.fit({\"train\": input_data}) "
   ]
  },
  {
   "cell_type": "code",
   "execution_count": 20,
   "id": "ffa56c0c",
   "metadata": {},
   "outputs": [
    {
     "data": {
      "text/plain": [
       "'xgboost-2021-06-28-23-08-14-913'"
      ]
     },
     "execution_count": 20,
     "metadata": {},
     "output_type": "execute_result"
    }
   ],
   "source": [
    "job_name = xgboost.latest_training_job.job_name\n",
    "job_name"
   ]
  },
  {
   "cell_type": "code",
   "execution_count": 21,
   "id": "82bc9dea",
   "metadata": {},
   "outputs": [
    {
     "data": {
      "text/plain": [
       "'s3://sagemaker-us-east-1-885248014373/output/xgboost-2021-06-28-23-08-14-913/output/model.tar.gz'"
      ]
     },
     "execution_count": 21,
     "metadata": {},
     "output_type": "execute_result"
    }
   ],
   "source": [
    "xgboost.model_data"
   ]
  },
  {
   "cell_type": "code",
   "execution_count": null,
   "id": "1ebe77e7",
   "metadata": {},
   "outputs": [],
   "source": []
  }
 ],
 "metadata": {
  "kernelspec": {
   "display_name": "Python 3",
   "language": "python",
   "name": "python3"
  },
  "language_info": {
   "codemirror_mode": {
    "name": "ipython",
    "version": 3
   },
   "file_extension": ".py",
   "mimetype": "text/x-python",
   "name": "python",
   "nbconvert_exporter": "python",
   "pygments_lexer": "ipython3",
   "version": "3.8.5"
  }
 },
 "nbformat": 4,
 "nbformat_minor": 5
}
